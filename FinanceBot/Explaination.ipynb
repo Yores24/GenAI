{
 "cells": [
  {
   "cell_type": "code",
   "execution_count": 2,
   "metadata": {},
   "outputs": [],
   "source": [
    "from langchain.document_loaders import TextLoader"
   ]
  },
  {
   "cell_type": "code",
   "execution_count": 8,
   "metadata": {},
   "outputs": [],
   "source": [
    "loader=TextLoader('Explaination.txt')\n",
    "data=loader.load()\n",
    "# aise hum load krskte h"
   ]
  },
  {
   "cell_type": "code",
   "execution_count": 9,
   "metadata": {},
   "outputs": [],
   "source": [
    "from langchain.document_loaders import UnstructuredURLLoader"
   ]
  },
  {
   "cell_type": "code",
   "execution_count": 11,
   "metadata": {},
   "outputs": [],
   "source": [
    "loader=UnstructuredURLLoader(urls=[\"https://www.moneycontrol.com/news/special-site/article/idfc-first-banks-bravo-the-ideal-financial-partner-for-startups-12691451.html\",\n",
    "                                   \"https://www.moneycontrol.com/news/special-site/article/charting-the-future-of-digital-transformation-rampp-ais-artificial-digital-intelligence-platform-offers-a-blueprint-for-success-in-the-ai-age-12546271.html\"])"
   ]
  },
  {
   "cell_type": "code",
   "execution_count": 12,
   "metadata": {},
   "outputs": [],
   "source": [
    "data=loader.load()"
   ]
  },
  {
   "cell_type": "code",
   "execution_count": 13,
   "metadata": {},
   "outputs": [
    {
     "data": {
      "text/plain": [
       "2"
      ]
     },
     "execution_count": 13,
     "metadata": {},
     "output_type": "execute_result"
    }
   ],
   "source": [
    "len(data)"
   ]
  },
  {
   "cell_type": "code",
   "execution_count": 15,
   "metadata": {},
   "outputs": [
    {
     "data": {
      "text/plain": [
       "{'source': 'https://www.moneycontrol.com/news/special-site/article/idfc-first-banks-bravo-the-ideal-financial-partner-for-startups-12691451.html'}"
      ]
     },
     "execution_count": 15,
     "metadata": {},
     "output_type": "execute_result"
    }
   ],
   "source": [
    "data[0].metadata"
   ]
  },
  {
   "cell_type": "markdown",
   "metadata": {},
   "source": [
    "Text splitting"
   ]
  },
  {
   "cell_type": "code",
   "execution_count": 22,
   "metadata": {},
   "outputs": [],
   "source": [
    "text=\"\"\"Interstellar is a 2014 epic science fiction drama film directed by Christopher Nolan,\n",
    "who co-wrote it with his brother Jonathan. It stars Matthew McConaughey, Anne Hathaway, \n",
    "Jessica Chastain, Bill Irwin, Ellen Burstyn, Michael Caine, and Matt Damon. Set in a dystopian\n",
    "future where Earth is suffering from catastrophic blight and famine, the film follows a group of astronauts\n",
    " who travel through a wormhole near Saturn in search of a new home for humankind.\n",
    "\n",
    "The screenplay had its origins in a script Jonathan developed in 2007, and was originally set \n",
    "to be directed by Steven Spielberg. Theoretical physicist Kip Thorne was an executive producer and scientific consultant on the film, and wrote\n",
    " the tie-in book The Science of Interstellar. Cinematographer Hoyte van Hoytema shot it on 35 mm movie film in the Panavision anamorphic format \n",
    " and IMAX 70 mm. Filming began in late 2013 and took place in Alberta, Klaustur, and Los Angeles. Interstellar uses extensive practical and miniature effects,\n",
    "   and the company DNEG created additional digital effects.\n",
    "\n",
    "Interstellar premiered in Los Angeles on October 26, 2014. In the United States, it was first released on film stock, \n",
    "expanding to venues using digital projectors. The film received positive reviews from critics and grossed over $681 million\n",
    " worldwide ($705 million after subsequent re-releases), making it the tenth-highest-grossing film of 2014.\n",
    "   Thorne's computer-generated depiction of a black hole in the film has also received commendation from astronomers and physicists.[4][5][6]\n",
    "     Interstellar was nominated for five awards at the 87th Academy Awards, winning Best Visual Effects, and received numerous other accolades.\"\"\""
   ]
  },
  {
   "cell_type": "code",
   "execution_count": 23,
   "metadata": {},
   "outputs": [
    {
     "name": "stdout",
     "output_type": "stream",
     "text": [
      "Interstellar is a 2014 epic science fiction drama film directed by Christopher Nolan,\n",
      "who co-wrote it with his brother Jonathan. It stars Matthew McConaughey, Anne Hathaway, \n",
      "Jessica Chastain, Bill Irwin, Ellen Burstyn, Michael Caine, and Matt Damon. Set in a dystopian\n",
      "future where Earth is suffering from catastrophic blight and famine, the film follows a group of astronauts\n",
      " who travel through a wormhole near Saturn in search of a new home for humankind.\n",
      "\n",
      "The screenplay had its origins in a script Jonathan developed in 2007, and was originally set \n",
      "to be directed by Steven Spielberg. Theoretical physicist Kip Thorne was an executive producer and scientific consultant on the film, and wrote\n",
      " the tie-in book The Science of Interstellar. Cinematographer Hoyte van Hoytema shot it on 35 mm movie film in the Panavision anamorphic format \n",
      " and IMAX 70 mm. Filming began in late 2013 and took place in Alberta, Klaustur, and Los Angeles. Interstellar uses extensive practical and miniature effects,\n",
      "   and the company DNEG created additional digital effects.\n",
      "\n",
      "Interstellar premiered in Los Angeles on October 26, 2014. In the United States, it was first released on film stock, \n",
      "expanding to venues using digital projectors. The film received positive reviews from critics and grossed over $681 million\n",
      " worldwide ($705 million after subsequent re-releases), making it the tenth-highest-grossing film of 2014.\n",
      "   Thorne's computer-generated depiction of a black hole in the film has also received commendation from astronomers and physicists.[4][5][6]\n",
      "     Interstellar was nominated for five awards at the 87th Academy Awards, winning Best Visual Effects, and received numerous other accolades.\n"
     ]
    }
   ],
   "source": [
    "print(text)"
   ]
  },
  {
   "cell_type": "code",
   "execution_count": 17,
   "metadata": {},
   "outputs": [],
   "source": [
    "# assumed token limit 200\n",
    "from langchain.text_splitter import CharacterTextSplitter\n"
   ]
  },
  {
   "cell_type": "code",
   "execution_count": 28,
   "metadata": {},
   "outputs": [],
   "source": [
    "splitter=CharacterTextSplitter(\n",
    "    separator=\" \",\n",
    "    chunk_size=200,\n",
    "    chunk_overlap=0\n",
    ")\n",
    "\n",
    "chunks=splitter.split_text(text)"
   ]
  },
  {
   "cell_type": "code",
   "execution_count": 29,
   "metadata": {},
   "outputs": [
    {
     "data": {
      "text/plain": [
       "9"
      ]
     },
     "execution_count": 29,
     "metadata": {},
     "output_type": "execute_result"
    }
   ],
   "source": [
    "len(chunks)"
   ]
  },
  {
   "cell_type": "code",
   "execution_count": 30,
   "metadata": {},
   "outputs": [
    {
     "name": "stdout",
     "output_type": "stream",
     "text": [
      "197\n",
      "199\n",
      "193\n",
      "198\n",
      "193\n",
      "195\n",
      "193\n",
      "194\n",
      "121\n"
     ]
    }
   ],
   "source": [
    "for i in chunks:\n",
    "    print(len(i))"
   ]
  },
  {
   "cell_type": "code",
   "execution_count": 31,
   "metadata": {},
   "outputs": [],
   "source": [
    "from langchain.text_splitter import RecursiveCharacterTextSplitter\n",
    "r_splitter=RecursiveCharacterTextSplitter(\n",
    "    separators=[\"\\n\\n\",\"\\n\",\" \"],\n",
    "    chunk_size=200,\n",
    "    chunk_overlap=0\n",
    ")\n",
    "chunks=r_splitter.split_text(text)"
   ]
  },
  {
   "cell_type": "code",
   "execution_count": 32,
   "metadata": {},
   "outputs": [
    {
     "data": {
      "text/plain": [
       "13"
      ]
     },
     "execution_count": 32,
     "metadata": {},
     "output_type": "execute_result"
    }
   ],
   "source": [
    "len(chunks)"
   ]
  },
  {
   "cell_type": "code",
   "execution_count": 33,
   "metadata": {},
   "outputs": [
    {
     "name": "stdout",
     "output_type": "stream",
     "text": [
      "173\n",
      "94\n",
      "189\n",
      "93\n",
      "143\n",
      "142\n",
      "157\n",
      "56\n",
      "117\n",
      "123\n",
      "105\n",
      "138\n",
      "138\n"
     ]
    }
   ],
   "source": [
    "for chunk in chunks:\n",
    "    print(len(chunk))"
   ]
  },
  {
   "cell_type": "code",
   "execution_count": null,
   "metadata": {},
   "outputs": [],
   "source": []
  }
 ],
 "metadata": {
  "kernelspec": {
   "display_name": "myenv",
   "language": "python",
   "name": "python3"
  },
  "language_info": {
   "codemirror_mode": {
    "name": "ipython",
    "version": 3
   },
   "file_extension": ".py",
   "mimetype": "text/x-python",
   "name": "python",
   "nbconvert_exporter": "python",
   "pygments_lexer": "ipython3",
   "version": "3.10.11"
  }
 },
 "nbformat": 4,
 "nbformat_minor": 2
}
